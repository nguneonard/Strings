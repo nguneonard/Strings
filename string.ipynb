{
 "cells": [
  {
   "cell_type": "markdown",
   "id": "6a02a196",
   "metadata": {},
   "source": [
    "# &nbsp;\n",
    "<font size=\"6\" color=\"#B24C00\"  face=\"verdana\"> <B>  String Data Type</B></font>\n",
    "- A string is a sequence of characters\n",
    "- Strings in Python are an ordered sequence of characters\n",
    "\n",
    "### String Literals\n",
    "String literals in python are surrounded by either single quotation marks, or double quotation marks.\n",
    "- A string literal uses quotes  ***'Hello'*** or ***\"Hello\"***\n",
    "- For strings, ***+*** means ***“concatenate”**\n",
    "- When a string contains numbers, it is still a string\n",
    "- We can convert numbers in a string into a number using ***int()***"
   ]
  },
  {
   "cell_type": "code",
   "execution_count": 33,
   "id": "5876a03a",
   "metadata": {},
   "outputs": [
    {
     "name": "stdout",
     "output_type": "stream",
     "text": [
      "Hello, World!\n"
     ]
    }
   ],
   "source": [
    "a = \"Hello, World!\"\n",
    "print(a)"
   ]
  },
  {
   "cell_type": "markdown",
   "id": "e3ad1f3c",
   "metadata": {},
   "source": [
    "### String Indexes\n",
    "\n",
    "Strings in Python are simply ordered collection of characters. So we can do a lot of cool tricks with it. We can access characters of a string, select a substring, reverse a string and much more very easily. It is also called slicing of string.\n",
    "\n"
   ]
  },
  {
   "cell_type": "code",
   "execution_count": 34,
   "id": "62365173",
   "metadata": {},
   "outputs": [
    {
     "name": "stdout",
     "output_type": "stream",
     "text": [
      "p\n",
      "y\n",
      "py\n",
      "python\n",
      "pto\n",
      "ython\n",
      "n\n",
      "o\n",
      "pyt\n",
      "hon\n",
      "python\n",
      "nohtyp\n",
      "nhy\n"
     ]
    }
   ],
   "source": [
    "language = 'python'\n",
    "first_character = language[0] # indexing starts from 0\n",
    "second_character = language[1]\n",
    "print(first_character) # p\n",
    "print(second_character) # y\n",
    "\n",
    "# Strings can be manipulated easily with this syntax [start:stop:step-over]\n",
    "range_1 = language[0:2] # here it starts from index 0 and ends at index 2\n",
    "range_2 = language[0::1] # starts at 0, stops at end with step over 1 \n",
    "range_3 = language[::2] # starts at 0, till end with step 2\n",
    "range_4 = language[1:] # starts at index 1 till end of string\n",
    "range_5 = language[-1] # selects last character\n",
    "range_6 = language[-2] # second last character\n",
    "range_7 = language[:3] # zero to 2nd index\n",
    "range_8 = language[3:] # from the 3rd index to the end\n",
    "range_9 = language[:] # all letters\n",
    "reverse_string = language[::-1] # starts from end and reverses the string\n",
    "reverse_string_2 = language[::-2] # reverses string and skips 1 character\n",
    "\n",
    "print(range_1) # py\n",
    "print(range_2) # python\n",
    "print(range_3) # pto\n",
    "print(range_4) # ython\n",
    "print(range_5) # n\n",
    "print(range_6) # o\n",
    "print(range_7)\n",
    "print(range_8)\n",
    "print(range_9)\n",
    "print(reverse_string) # nohtyp\n",
    "print(reverse_string_2) # nhy"
   ]
  },
  {
   "cell_type": "code",
   "execution_count": 35,
   "id": "c4b80577",
   "metadata": {},
   "outputs": [
    {
     "name": "stdout",
     "output_type": "stream",
     "text": [
      "0 b\n",
      "1 a\n",
      "2 n\n",
      "3 a\n",
      "4 n\n",
      "5 a\n"
     ]
    }
   ],
   "source": [
    "# LOOP through string using while loop\n",
    "\n",
    "fruit = \"banana\"\n",
    "index = 0\n",
    "\n",
    "while index <len(fruit):\n",
    "    letter = fruit[index]\n",
    "    print(index, letter)\n",
    "    index = index + 1"
   ]
  },
  {
   "cell_type": "code",
   "execution_count": 36,
   "id": "0a3ae1a7",
   "metadata": {},
   "outputs": [
    {
     "name": "stdout",
     "output_type": "stream",
     "text": [
      "b\n",
      "a\n",
      "n\n",
      "a\n",
      "n\n",
      "a\n"
     ]
    }
   ],
   "source": [
    "# loop through using for loop\n",
    "fruit = \"banana\"\n",
    "for letter in fruit:\n",
    "    print(letter)"
   ]
  },
  {
   "cell_type": "code",
   "execution_count": 37,
   "id": "d1cff9a2",
   "metadata": {},
   "outputs": [
    {
     "name": "stdout",
     "output_type": "stream",
     "text": [
      "3\n"
     ]
    }
   ],
   "source": [
    "# looping and counting\n",
    "\n",
    "fruit = \"banana\"\n",
    "count = 0\n",
    "for letter in fruit:\n",
    "    if letter == \"a\":\n",
    "        count = count + 1\n",
    "print(count)"
   ]
  },
  {
   "cell_type": "code",
   "execution_count": 38,
   "id": "eeca2244",
   "metadata": {},
   "outputs": [
    {
     "name": "stdout",
     "output_type": "stream",
     "text": [
      "<class 'str'>\n",
      "<class 'str'>\n",
      "<class 'str'>\n",
      "<class 'str'>\n"
     ]
    }
   ],
   "source": [
    "name = 'Python' # string assignment within single quotes\n",
    "name2 = \"Python\" # string assingment within double quotes\n",
    "name3 = '''This is a a very long string and supports \n",
    "            multiline statements as well''' # string assingment within 3 single quotes\n",
    "name4 = 'Hello! \\\"Rockstar Programmer\\\"' # string with escaped character sequence\n",
    "print(type(name)) # <class 'str'>\n",
    "print(type(name2)) # <class 'str'>\n",
    "print(type(name3)) # <class 'str'>\n",
    "print(type(name4)) # <class 'str'>"
   ]
  },
  {
   "cell_type": "markdown",
   "id": "9a9671b6",
   "metadata": {},
   "source": [
    "### Predefined methods to remove spaces in Python\n",
    "1.\t***rstrip()*** -> remove spaces at right side of string\n",
    "2.\t***lstrip()*** -> remove spaces at left side of string\n",
    "3.\t***strip()*** -> remove spaces at left & right sides of string"
   ]
  },
  {
   "cell_type": "markdown",
   "id": "f9e9784f",
   "metadata": {},
   "source": [
    "- The ***strip()*** method removes any whitespace from the beginning or the end:"
   ]
  },
  {
   "cell_type": "code",
   "execution_count": 39,
   "id": "9265be3e",
   "metadata": {},
   "outputs": [
    {
     "name": "stdout",
     "output_type": "stream",
     "text": [
      "Hello, World!\n"
     ]
    }
   ],
   "source": [
    "a = \" Hello, World! \"\n",
    "print(a.strip()) # returns \"Hello, World!\""
   ]
  },
  {
   "cell_type": "code",
   "execution_count": 40,
   "id": "7699aaab",
   "metadata": {},
   "outputs": [
    {
     "name": "stdout",
     "output_type": "stream",
     "text": [
      "15\n"
     ]
    }
   ],
   "source": [
    "#The len() method returns the length of a string:\n",
    "print(len(a))"
   ]
  },
  {
   "cell_type": "code",
   "execution_count": 41,
   "id": "afbb23a8",
   "metadata": {},
   "outputs": [
    {
     "name": "stdout",
     "output_type": "stream",
     "text": [
      "with spaces course length is:  7\n"
     ]
    }
   ],
   "source": [
    "### Example: To remove spaces in the starting and ending of the string \n",
    "course = \"Python \"\n",
    "print(\"with spaces course length is: \",len(course))"
   ]
  },
  {
   "cell_type": "code",
   "execution_count": 42,
   "id": "16fefca3",
   "metadata": {},
   "outputs": [
    {
     "name": "stdout",
     "output_type": "stream",
     "text": [
      "after removing spaces, course length is:  6\n"
     ]
    }
   ],
   "source": [
    "x=course.strip()\n",
    "print(\"after removing spaces, course length is: \",len(x))"
   ]
  },
  {
   "cell_type": "code",
   "execution_count": 43,
   "id": "249de942",
   "metadata": {},
   "outputs": [
    {
     "name": "stdout",
     "output_type": "stream",
     "text": [
      "Python\n"
     ]
    }
   ],
   "source": [
    "course = \"  Python\"\n",
    "print(course.lstrip())"
   ]
  },
  {
   "cell_type": "code",
   "execution_count": 44,
   "id": "1ec7d9bf",
   "metadata": {},
   "outputs": [
    {
     "name": "stdout",
     "output_type": "stream",
     "text": [
      "8\n"
     ]
    }
   ],
   "source": [
    "tst_str = course.rstrip()\n",
    "print(len(tst_str))"
   ]
  },
  {
   "cell_type": "markdown",
   "id": "426dd6c2",
   "metadata": {},
   "source": [
    "### Split a string in Python\n",
    "\n",
    "We can split the given string according to the specified separator by using the split() method. The default separator is space. ```split()``` method returns list.\n"
   ]
  },
  {
   "cell_type": "code",
   "execution_count": 45,
   "id": "a6d5e504",
   "metadata": {},
   "outputs": [
    {
     "name": "stdout",
     "output_type": "stream",
     "text": [
      "Before splitting:  Python programming language\n",
      "After splitting:  ['Python', 'programming', 'language']\n",
      "<class 'list'>\n"
     ]
    }
   ],
   "source": [
    "message=\"Python programming language\"\n",
    "n=message.split()\n",
    "print(\"Before splitting: \",message)\n",
    "print(\"After splitting: \",n)\n",
    "print(type(n))"
   ]
  },
  {
   "cell_type": "code",
   "execution_count": 32,
   "id": "c317c5dd",
   "metadata": {},
   "outputs": [],
   "source": [
    "#help(\" \".split)   # help doc with string"
   ]
  },
  {
   "cell_type": "code",
   "execution_count": 46,
   "id": "7e4c1c47",
   "metadata": {},
   "outputs": [
    {
     "name": "stdout",
     "output_type": "stream",
     "text": [
      "Python\n",
      "programming\n",
      "language\n"
     ]
    }
   ],
   "source": [
    "for x in n:\n",
    "    print(x)"
   ]
  },
  {
   "cell_type": "code",
   "execution_count": 47,
   "id": "52b831f7",
   "metadata": {},
   "outputs": [
    {
     "data": {
      "text/plain": [
       "['1', '2', '3', '4', '5']"
      ]
     },
     "execution_count": 47,
     "metadata": {},
     "output_type": "execute_result"
    }
   ],
   "source": [
    "'1+2+3+4+5'.split('+')"
   ]
  },
  {
   "cell_type": "code",
   "execution_count": 48,
   "id": "c42770cf",
   "metadata": {},
   "outputs": [
    {
     "data": {
      "text/plain": [
       "['', 'usr', 'bin', 'env']"
      ]
     },
     "execution_count": 48,
     "metadata": {},
     "output_type": "execute_result"
    }
   ],
   "source": [
    "'/usr/bin/env'.split('/')"
   ]
  },
  {
   "cell_type": "code",
   "execution_count": 49,
   "id": "28c9649e",
   "metadata": {},
   "outputs": [
    {
     "data": {
      "text/plain": [
       "['Using', 'the', 'default']"
      ]
     },
     "execution_count": 49,
     "metadata": {},
     "output_type": "execute_result"
    }
   ],
   "source": [
    "'Using the default'.split()"
   ]
  },
  {
   "cell_type": "code",
   "execution_count": 50,
   "id": "f37448ec",
   "metadata": {},
   "outputs": [
    {
     "name": "stdout",
     "output_type": "stream",
     "text": [
      "['Hello', ' World!', ' Bye-bye']\n"
     ]
    }
   ],
   "source": [
    "# The split() method splits the string into substrings if it finds instances of the separator:\n",
    "a = \"Hello, World!, Bye-bye\"\n",
    "print(a.split(\",\")) # returns ['Hello', ' World!']"
   ]
  },
  {
   "cell_type": "markdown",
   "id": "4b653208",
   "metadata": {},
   "source": [
    "### find\n",
    "The find method finds a substring within a larger string. It returns the leftmost index where the substring is\n",
    "found. If it is not found, –1 is returned."
   ]
  },
  {
   "cell_type": "code",
   "execution_count": 51,
   "id": "87508612",
   "metadata": {},
   "outputs": [
    {
     "data": {
      "text/plain": [
       "7"
      ]
     },
     "execution_count": 51,
     "metadata": {},
     "output_type": "execute_result"
    }
   ],
   "source": [
    "'With a moo-moo here, and a moo-moo there'.find('moo')"
   ]
  },
  {
   "cell_type": "code",
   "execution_count": 52,
   "id": "ef5a49e6",
   "metadata": {},
   "outputs": [
    {
     "data": {
      "text/plain": [
       "0"
      ]
     },
     "execution_count": 52,
     "metadata": {},
     "output_type": "execute_result"
    }
   ],
   "source": [
    "title = \"Monty Python's Flying Circus\"\n",
    "title.find('Monty')"
   ]
  },
  {
   "cell_type": "code",
   "execution_count": 53,
   "id": "b7dff5a5",
   "metadata": {},
   "outputs": [
    {
     "data": {
      "text/plain": [
       "6"
      ]
     },
     "execution_count": 53,
     "metadata": {},
     "output_type": "execute_result"
    }
   ],
   "source": [
    "title.find('Python')"
   ]
  },
  {
   "cell_type": "code",
   "execution_count": 54,
   "id": "8e3cc287",
   "metadata": {},
   "outputs": [
    {
     "data": {
      "text/plain": [
       "15"
      ]
     },
     "execution_count": 54,
     "metadata": {},
     "output_type": "execute_result"
    }
   ],
   "source": [
    "title.find('Flying')"
   ]
  },
  {
   "cell_type": "code",
   "execution_count": 55,
   "id": "ad5da207",
   "metadata": {},
   "outputs": [
    {
     "data": {
      "text/plain": [
       "-1"
      ]
     },
     "execution_count": 55,
     "metadata": {},
     "output_type": "execute_result"
    }
   ],
   "source": [
    "title.find('Zirquss')"
   ]
  },
  {
   "cell_type": "code",
   "execution_count": 56,
   "id": "b7699251",
   "metadata": {},
   "outputs": [
    {
     "data": {
      "text/plain": [
       "0"
      ]
     },
     "execution_count": 56,
     "metadata": {},
     "output_type": "execute_result"
    }
   ],
   "source": [
    "subject = '$$$ Get rich now!!! $$$'\n",
    "subject.find('$$$')"
   ]
  },
  {
   "cell_type": "code",
   "execution_count": 57,
   "id": "548867e4",
   "metadata": {},
   "outputs": [
    {
     "data": {
      "text/plain": [
       "16"
      ]
     },
     "execution_count": 57,
     "metadata": {},
     "output_type": "execute_result"
    }
   ],
   "source": [
    "subject.find('!!!')"
   ]
  },
  {
   "cell_type": "code",
   "execution_count": 58,
   "id": "8e986a55",
   "metadata": {},
   "outputs": [
    {
     "data": {
      "text/plain": [
       "20"
      ]
     },
     "execution_count": 58,
     "metadata": {},
     "output_type": "execute_result"
    }
   ],
   "source": [
    "subject.find('$$$', 1)"
   ]
  },
  {
   "cell_type": "markdown",
   "id": "a6e0e2ec",
   "metadata": {},
   "source": [
    "#### replace\n",
    "The replace method returns a string where all the occurrences of one string have been replaced by another"
   ]
  },
  {
   "cell_type": "code",
   "execution_count": 59,
   "id": "b323e2b4",
   "metadata": {},
   "outputs": [
    {
     "data": {
      "text/plain": [
       "'Theez eez a test'"
      ]
     },
     "execution_count": 59,
     "metadata": {},
     "output_type": "execute_result"
    }
   ],
   "source": [
    "'This is a test'.replace('is', 'eez')"
   ]
  },
  {
   "cell_type": "code",
   "execution_count": 60,
   "id": "2bb05cff",
   "metadata": {},
   "outputs": [
    {
     "data": {
      "text/plain": [
       "True"
      ]
     },
     "execution_count": 60,
     "metadata": {},
     "output_type": "execute_result"
    }
   ],
   "source": [
    "# using in as a loogical operator\n",
    "\n",
    "fruit = \"banana\"\n",
    "'n' in fruit"
   ]
  },
  {
   "cell_type": "code",
   "execution_count": 61,
   "id": "523a11ad",
   "metadata": {},
   "outputs": [
    {
     "name": "stdout",
     "output_type": "stream",
     "text": [
      "found it!\n"
     ]
    }
   ],
   "source": [
    "if 'a' in fruit:\n",
    "    print('found it!')\n",
    "else:\n",
    "    print('problem with vision!')"
   ]
  },
  {
   "cell_type": "markdown",
   "id": "661f9fac",
   "metadata": {},
   "source": [
    "### Concatenating Strings continues\n",
    "- strings can be concatenated using the + operator. It simply joins or 'concatenates' strings.\n",
    "\n",
    "Python provides several methods of formatting strings in the print() function beyond string addition\n",
    "The print() function supports using commas to combine strings for output\n",
    "by comma separating strings print() will output each string separated with a space by default\n"
   ]
  },
  {
   "cell_type": "code",
   "execution_count": 62,
   "id": "999d3c00",
   "metadata": {},
   "outputs": [
    {
     "name": "stdout",
     "output_type": "stream",
     "text": [
      "Mike Tyson\n"
     ]
    }
   ],
   "source": [
    "first_name = 'Mike'\n",
    "last_name = 'Tyson'\n",
    "print(first_name + ' ' + last_name) # Mike Tyson"
   ]
  },
  {
   "cell_type": "code",
   "execution_count": 63,
   "id": "5eead89d",
   "metadata": {},
   "outputs": [
    {
     "name": "stdout",
     "output_type": "stream",
     "text": [
      "hellothere\n"
     ]
    }
   ],
   "source": [
    "a = \"hello\"\n",
    "b = a + \"there\"\n",
    "print(b)"
   ]
  },
  {
   "cell_type": "code",
   "execution_count": 64,
   "id": "f80d7a4d",
   "metadata": {},
   "outputs": [
    {
     "name": "stdout",
     "output_type": "stream",
     "text": [
      "hello there\n"
     ]
    }
   ],
   "source": [
    "c = a + ' '+ 'there' # space words\n",
    "print(c)"
   ]
  },
  {
   "cell_type": "code",
   "execution_count": 65,
   "id": "7c74a214",
   "metadata": {},
   "outputs": [
    {
     "name": "stdout",
     "output_type": "stream",
     "text": [
      "ada lovelace\n"
     ]
    }
   ],
   "source": [
    "first_name = \"ada\"\n",
    "last_name = \"lovelace\"\n",
    "full_name = first_name + \" \" + last_name\n",
    "print(full_name)"
   ]
  },
  {
   "cell_type": "code",
   "execution_count": 66,
   "id": "983ca567",
   "metadata": {},
   "outputs": [
    {
     "name": "stdout",
     "output_type": "stream",
     "text": [
      "Hello, Ada Lovelace!\n"
     ]
    }
   ],
   "source": [
    "print(\"Hello, \" + full_name.title() + \"!\")"
   ]
  },
  {
   "cell_type": "code",
   "execution_count": 67,
   "id": "73a80385",
   "metadata": {},
   "outputs": [
    {
     "name": "stdout",
     "output_type": "stream",
     "text": [
      "Hello, ADA LOVELACE!\n"
     ]
    }
   ],
   "source": [
    "print(\"Hello, \" + full_name.upper() + \"!\")"
   ]
  },
  {
   "cell_type": "code",
   "execution_count": 68,
   "id": "d997c7a1",
   "metadata": {},
   "outputs": [
    {
     "name": "stdout",
     "output_type": "stream",
     "text": [
      "Hello Colette!\n"
     ]
    }
   ],
   "source": [
    "# review and run code\n",
    "# print 3 strings on the same line using commas inside the print() function\n",
    "name = \"Colette\"\n",
    "# string addition \n",
    "print(\"Hello \" + name + \"!\")"
   ]
  },
  {
   "cell_type": "code",
   "execution_count": 69,
   "id": "cecf61a4",
   "metadata": {},
   "outputs": [
    {
     "name": "stdout",
     "output_type": "stream",
     "text": [
      "Hello to Colette who is from the city\n"
     ]
    }
   ],
   "source": [
    "# comma separation formatting\n",
    "print(\"Hello to\",name,\"who is from the city\")"
   ]
  },
  {
   "cell_type": "markdown",
   "id": "b90d659a",
   "metadata": {},
   "source": [
    "### EX1 : print 3 strings on the same line using commas inside the print() function"
   ]
  },
  {
   "cell_type": "markdown",
   "id": "24214c5f",
   "metadata": {},
   "source": [
    "Concept: printing strings with numbers\n",
    "using commas in print() with strings and numbers together\n",
    "- print() function formatting with comma separation works different than with string addition.\n",
    "- print() using comma separation can mix numbers (int & float) and strings without a TypeError\n",
    "print() with numbers and strings together using commas\n",
    "- use a print() function with comma separation to \n"
   ]
  },
  {
   "cell_type": "code",
   "execution_count": 70,
   "id": "bf8c842b",
   "metadata": {},
   "outputs": [
    {
     "name": "stdout",
     "output_type": "stream",
     "text": [
      "I will pick you up @ 6 for the party\n"
     ]
    }
   ],
   "source": [
    "# review and run code\n",
    "print(\"I will pick you up @\",6,\"for the party\")"
   ]
  },
  {
   "cell_type": "code",
   "execution_count": 71,
   "id": "479ff49d",
   "metadata": {},
   "outputs": [
    {
     "name": "stdout",
     "output_type": "stream",
     "text": [
      "An Integer of 14 combined with strings causes 0 TypeErrors in comma formatted print!\n"
     ]
    }
   ],
   "source": [
    "# review and run code\n",
    "number_errors = 0\n",
    "print(\"An Integer of\", 14, \"combined with strings causes\",number_errors,\"TypeErrors in comma formatted print!\")"
   ]
  },
  {
   "cell_type": "markdown",
   "id": "ffc9480e",
   "metadata": {},
   "source": [
    "### EX2: use a print() function with comma separation to combine 2 numbers and 2 strings"
   ]
  },
  {
   "cell_type": "code",
   "execution_count": 72,
   "id": "b9674ecd",
   "metadata": {},
   "outputs": [
    {
     "name": "stdout",
     "output_type": "stream",
     "text": [
      "I'm learning string concat in 2020 by next year, it will be 2021\n"
     ]
    }
   ],
   "source": [
    "print(\"I'm learning string concat in\",2020,\"by next year, it will be\",2021)"
   ]
  },
  {
   "cell_type": "markdown",
   "id": "981b4941",
   "metadata": {},
   "source": [
    "## EX3: print() comma separated mixing of strings and variables"
   ]
  },
  {
   "cell_type": "code",
   "execution_count": 73,
   "id": "5f3ff898",
   "metadata": {},
   "outputs": [],
   "source": [
    "# by comma separating strings and/or string variables print() will output each separated by a space by default\n",
    "# display text describing an address, made from stings and variables of different types\n",
    "# - initialize variables with input()\n",
    "# - street\n",
    "# - st_number\n",
    "#- Display a message about the street and street number using comma separation formatting\n",
    "# [ ] get user input for a street name in the variable, street\n",
    "# [ ] get user input for a street number in the variable, st_number\n",
    "# [ ] display a message about the street and st_number"
   ]
  },
  {
   "cell_type": "code",
   "execution_count": 76,
   "id": "48f961d6",
   "metadata": {},
   "outputs": [
    {
     "name": "stdout",
     "output_type": "stream",
     "text": [
      "Enter street name: neonard\n",
      "Enter street number: 1234\n",
      "street info:  neonard 1234\n"
     ]
    }
   ],
   "source": [
    "street = input(\"Enter street name: \")\n",
    "st_number = input(\"Enter street number: \")\n",
    "print(\"street info: \",street, st_number)"
   ]
  },
  {
   "cell_type": "markdown",
   "id": "69ffe06f",
   "metadata": {},
   "source": [
    "## Ex4 : Training class reservation"
   ]
  },
  {
   "cell_type": "markdown",
   "id": "c6223550",
   "metadata": {},
   "source": [
    "<font size=\"6\" color=\"#B24C00\"  face=\"verdana\"> <B>Task </B></font>\n",
    "\n",
    "Create a program that prints out a reservation for a training class.  Gather the name of the party, the number attending and the time.\n",
    ">**example** of what input/output might look like:\n",
    "```\n",
    "enter name for contact person for training group: Hiroto Yamaguchi  \n",
    "enter the total number attending the course: 7  \n",
    "enter the training time selected: 3:25 PM  \n",
    "------------------------------  \n",
    "Reminder: training is schedule at 3:25 PM for the Hiroto Yamaguchi group of 7 attendees  \n",
    "Please arrive 10 minutes early for the first class  \n",
    "```  \n",
    "  \n",
    "Design and Create your own reminder style  \n",
    "- get user input for variables:\n",
    "  - **owner**: name of person the reservation is for  \n",
    "  - **num_people**: how many are attending  \n",
    "  - **training_time**: class time\n",
    "- create an integer variable **min_early**: number of minutes early the party should arrive\n",
    "- using comma separation, print reminder text\n",
    "  - use all of the variables in the text\n",
    "  - use additional strings as needed\n",
    "  - use multiple print statements to format message on multiple lines (optional)"
   ]
  },
  {
   "cell_type": "code",
   "execution_count": 77,
   "id": "3f3c3a90",
   "metadata": {},
   "outputs": [
    {
     "name": "stdout",
     "output_type": "stream",
     "text": [
      "enter name for contact person for training group: neonard\n",
      "enter the total number attending the course: 34\n",
      "enter the training time selected: 12\n",
      "Reminder: training is schedule at 12 for neonard group of 34\n",
      "Please arrive 15 minutes early for the first class \n"
     ]
    }
   ],
   "source": [
    "owner        = input(\"enter name for contact person for training group: \")\n",
    "num_people   = input(\"enter the total number attending the course: \")\n",
    "training_time = input(\"enter the training time selected: \")\n",
    "min_early  = 15\n",
    "print(\"Reminder: training is schedule at\",training_time,\"for\",owner,\"group of\",num_people)\n",
    "print(\"Please arrive\", min_early, \"minutes early for the first class \")"
   ]
  },
  {
   "cell_type": "markdown",
   "id": "946ac256",
   "metadata": {},
   "source": [
    "## Representing quotes inside of quoted strings\n",
    "Concept: Quotes in Strings"
   ]
  },
  {
   "cell_type": "code",
   "execution_count": 78,
   "id": "9531ec5b",
   "metadata": {},
   "outputs": [
    {
     "name": "stdout",
     "output_type": "stream",
     "text": [
      "It's time to save your code\n"
     ]
    }
   ],
   "source": [
    "# review and run the code# Single quote surrounded by Double\n",
    "print(\"It's time to save your code\")"
   ]
  },
  {
   "cell_type": "code",
   "execution_count": 79,
   "id": "f969e172",
   "metadata": {},
   "outputs": [
    {
     "name": "stdout",
     "output_type": "stream",
     "text": [
      "I said to the class \"sometimes you need to shut down and restart a notebook when cells refuse to run\"\n"
     ]
    }
   ],
   "source": [
    "# Double quote surrounded by Single\n",
    "print('I said to the class \"sometimes you need to shut down and restart a notebook when cells refuse to run\"')"
   ]
  },
  {
   "cell_type": "markdown",
   "id": "cb9a7b08",
   "metadata": {},
   "source": [
    "## Adding Whitespace to Strings with Tabs or Newlines"
   ]
  },
  {
   "cell_type": "code",
   "execution_count": 80,
   "id": "cea6cd03",
   "metadata": {},
   "outputs": [
    {
     "name": "stdout",
     "output_type": "stream",
     "text": [
      "Languages:\n",
      "Python\n",
      "C\n",
      "JavaScript\n"
     ]
    }
   ],
   "source": [
    "print(\"Languages:\\nPython\\nC\\nJavaScript\") # To add a newline in a string, use the character combination \\n:"
   ]
  },
  {
   "cell_type": "code",
   "execution_count": 81,
   "id": "b89d2e7a",
   "metadata": {},
   "outputs": [
    {
     "name": "stdout",
     "output_type": "stream",
     "text": [
      "Hello\tPython\n"
     ]
    }
   ],
   "source": [
    "print(\"Hello\\tPython\") # To add a tab to your text, use the character combination \\t"
   ]
  },
  {
   "cell_type": "code",
   "execution_count": 82,
   "id": "a1c8e21f",
   "metadata": {},
   "outputs": [
    {
     "name": "stdout",
     "output_type": "stream",
     "text": [
      "Languages:\n",
      "\tPython\n",
      "\tC\n",
      "\tJavaScript\n"
     ]
    }
   ],
   "source": [
    "print(\"Languages:\\n\\tPython\\n\\tC\\n\\tJavaScript\")"
   ]
  },
  {
   "cell_type": "markdown",
   "id": "3b1f717b",
   "metadata": {},
   "source": [
    "## Stripping Whitespace"
   ]
  },
  {
   "cell_type": "markdown",
   "id": "df2d289b",
   "metadata": {},
   "source": [
    "- It’s important to think about whitespace, because often you’ll want to compare two strings to determine whether they are the same. \n",
    "- For example, one important instance might involve checking people’s usernames when they log in to a website. \n",
    "- Extra whitespace can be confusing in much simpler situations as well.\n",
    "- To ensure that no whitespace exists at the right end of a string, use the rstrip() method.\n",
    "- To ensure that no whitespace exists at the right end of a string, use the lstrip() method."
   ]
  },
  {
   "cell_type": "code",
   "execution_count": 83,
   "id": "e1a2c0e3",
   "metadata": {},
   "outputs": [
    {
     "data": {
      "text/plain": [
       "'python '"
      ]
     },
     "execution_count": 83,
     "metadata": {},
     "output_type": "execute_result"
    }
   ],
   "source": [
    "favorite_language = 'python '\n",
    "favorite_language"
   ]
  },
  {
   "cell_type": "code",
   "execution_count": 84,
   "id": "35d17db2",
   "metadata": {},
   "outputs": [
    {
     "data": {
      "text/plain": [
       "'python'"
      ]
     },
     "execution_count": 84,
     "metadata": {},
     "output_type": "execute_result"
    }
   ],
   "source": [
    "favorite_language.rstrip()"
   ]
  },
  {
   "cell_type": "code",
   "execution_count": 85,
   "id": "4a17d193",
   "metadata": {},
   "outputs": [
    {
     "data": {
      "text/plain": [
       "' python'"
      ]
     },
     "execution_count": 85,
     "metadata": {},
     "output_type": "execute_result"
    }
   ],
   "source": [
    "favorite_language = ' python '\n",
    "favorite_language.rstrip()"
   ]
  },
  {
   "cell_type": "code",
   "execution_count": 86,
   "id": "d0b7b517",
   "metadata": {},
   "outputs": [
    {
     "data": {
      "text/plain": [
       "'python '"
      ]
     },
     "execution_count": 86,
     "metadata": {},
     "output_type": "execute_result"
    }
   ],
   "source": [
    "favorite_language.lstrip()"
   ]
  },
  {
   "cell_type": "code",
   "execution_count": 87,
   "id": "0e9cd515",
   "metadata": {},
   "outputs": [
    {
     "data": {
      "text/plain": [
       "'python'"
      ]
     },
     "execution_count": 87,
     "metadata": {},
     "output_type": "execute_result"
    }
   ],
   "source": [
    "favorite_language.strip()"
   ]
  },
  {
   "cell_type": "markdown",
   "id": "ff311e73",
   "metadata": {},
   "source": [
    "## The format Method\n",
    "- - Sometimes we may want to construct strings from other information. This is where the format() method is useful."
   ]
  },
  {
   "cell_type": "code",
   "execution_count": 88,
   "id": "a0fd5bf0",
   "metadata": {},
   "outputs": [
    {
     "name": "stdout",
     "output_type": "stream",
     "text": [
      "Swaroop is 25 years old\n",
      "Why is Swaroop playing with that python?\n"
     ]
    }
   ],
   "source": [
    "age = 25\n",
    "name = 'Swaroop'\n",
    "print('{0} is {1} years old'.format(name, age)) # we use {0} and this corresponds to the variable name\n",
    "        # the second specification is {1}corresponding to age which is the second argument to the format method\n",
    "    \n",
    "print('Why is {0} playing with that python?'.format(name))"
   ]
  },
  {
   "cell_type": "code",
   "execution_count": 90,
   "id": "85b91fcc",
   "metadata": {},
   "outputs": [
    {
     "data": {
      "text/plain": [
       "'0.333'"
      ]
     },
     "execution_count": 90,
     "metadata": {},
     "output_type": "execute_result"
    }
   ],
   "source": [
    "'{0:.3}'.format(1/3) # decimal (.) precision of 3 for float"
   ]
  },
  {
   "cell_type": "code",
   "execution_count": 91,
   "id": "4df45842",
   "metadata": {},
   "outputs": [
    {
     "data": {
      "text/plain": [
       "'___hello___'"
      ]
     },
     "execution_count": 91,
     "metadata": {},
     "output_type": "execute_result"
    }
   ],
   "source": [
    "'{0:_^11}'.format('hello') # fill with underscores (_) with the text centered (^) to 11 width"
   ]
  },
  {
   "cell_type": "code",
   "execution_count": 92,
   "id": "22ec49f3",
   "metadata": {},
   "outputs": [
    {
     "data": {
      "text/plain": [
       "'Swaroop wrote A Byte of Python'"
      ]
     },
     "execution_count": 92,
     "metadata": {},
     "output_type": "execute_result"
    }
   ],
   "source": [
    "'{name} wrote {book}'.format(name='Swaroop', book='A Byte of Python')"
   ]
  },
  {
   "cell_type": "code",
   "execution_count": 93,
   "id": "98012bef",
   "metadata": {},
   "outputs": [
    {
     "name": "stdout",
     "output_type": "stream",
     "text": [
      "enter a word: hello\n",
      "your word,hello, comes after banana.\n"
     ]
    }
   ],
   "source": [
    "# string comparison\n",
    "word = input('enter a word: ')\n",
    "\n",
    "if word == 'banana':\n",
    "    print('All right, banana.')\n",
    "\n",
    "if word < 'banana':\n",
    "    print('Your word,'+ word + ', comes before banana.')\n",
    "elif word > 'banana':\n",
    "    print('your word,' + word + ', comes after banana.')\n",
    "else:\n",
    "    print('All right, banana.')"
   ]
  },
  {
   "cell_type": "markdown",
   "id": "2593ea79",
   "metadata": {},
   "source": [
    "<font size=\"6\" color=\"#B24C00\"  face=\"verdana\"> <B> Using Methods to Change Case in String </B></font> \n"
   ]
  },
  {
   "cell_type": "markdown",
   "id": "717924c8",
   "metadata": {},
   "source": [
    "In Python, a method is an action upon which certain\n",
    "manipulation can be taken on a piece of data. Furthermore, the dot (.) that comes after the\n",
    "variable name informs the interpreter to allow the XXXX() method to interact with our variable\n",
    "name. Parentheses always follow a method because they require additional information to\n",
    "perform their function\n",
    " \n",
    " The following methods can be applied to string objects\n",
    "- **capitalize()** - capitalizes the first character of a string\n",
    "- **lower()** - all characters of a string are made lowercase\n",
    "- **upper()** - all characters of a string are made uppercase\n",
    "- **swapcase()** - all characters of a string are made to switch case upper becomes lower and vice versa\n",
    "- **title()** - each 'word' separated by a space is capitalized\n"
   ]
  },
  {
   "cell_type": "code",
   "execution_count": 94,
   "id": "4301fe53",
   "metadata": {},
   "outputs": [
    {
     "name": "stdout",
     "output_type": "stream",
     "text": [
      "Ms. browning is in her office.\n"
     ]
    }
   ],
   "source": [
    "print(\"ms. Browning is in her office.\".capitalize())"
   ]
  },
  {
   "cell_type": "code",
   "execution_count": 95,
   "id": "6a9813a0",
   "metadata": {},
   "outputs": [
    {
     "name": "stdout",
     "output_type": "stream",
     "text": [
      "Green green green and GREEN!\n"
     ]
    }
   ],
   "source": [
    "fav_color = \"green\"\n",
    "print(fav_color.capitalize(), fav_color, fav_color,\"and\", fav_color.upper()+\"!\")"
   ]
  },
  {
   "cell_type": "code",
   "execution_count": 96,
   "id": "2ba385b8",
   "metadata": {},
   "outputs": [
    {
     "name": "stdout",
     "output_type": "stream",
     "text": [
      "Johnson Boris\n"
     ]
    }
   ],
   "source": [
    "full_name = \"johnson boris\"\n",
    "print(full_name.title())"
   ]
  },
  {
   "cell_type": "code",
   "execution_count": 97,
   "id": "81359d14",
   "metadata": {},
   "outputs": [
    {
     "name": "stdout",
     "output_type": "stream",
     "text": [
      "johnson boris\n"
     ]
    }
   ],
   "source": [
    "full_name = \"johnson boris\"\n",
    "print(full_name.lower())"
   ]
  },
  {
   "cell_type": "code",
   "execution_count": 98,
   "id": "399d6686",
   "metadata": {},
   "outputs": [
    {
     "name": "stdout",
     "output_type": "stream",
     "text": [
      "JOHNSON BORIS\n"
     ]
    }
   ],
   "source": [
    "print(full_name.upper())"
   ]
  },
  {
   "cell_type": "markdown",
   "id": "35db78ae",
   "metadata": {},
   "source": [
    "## Ex5 : multi-part"
   ]
  },
  {
   "cell_type": "markdown",
   "id": "d1d6178e",
   "metadata": {},
   "source": [
    "<font size=\"5\" color=\"#B24C00\"  face=\"verdana\"> <B>## Task </B></font> \n",
    "\n",
    "- format with .capitalize(), .lower(), .upper(), .swapcase()\n",
    "- get input for a variable, fav_food, that describes a favorite food\n",
    "- display fav_food as ALL CAPS, used in a sentence\n",
    "- display fav_food as all lower case, used in a sentence\n",
    "- display fav_food with swapped case, used in a sentence\n",
    "- fav_color = \"Forest Green\"\n",
    "- display the fav_color variable as upper, lower, swapcase, and capitalize formatting in a single print() statement"
   ]
  },
  {
   "cell_type": "code",
   "execution_count": 99,
   "id": "d7f9b9ab",
   "metadata": {},
   "outputs": [
    {
     "name": "stdout",
     "output_type": "stream",
     "text": [
      "Enter the  favorite food: eru\n",
      "ERU!\n"
     ]
    }
   ],
   "source": [
    "fav_food = input(\"Enter the  favorite food: \")\n",
    "print(fav_food.upper()+\"!\")"
   ]
  },
  {
   "cell_type": "code",
   "execution_count": 100,
   "id": "99c54a3b",
   "metadata": {},
   "outputs": [
    {
     "name": "stdout",
     "output_type": "stream",
     "text": [
      "Enter the  favorite food: ERU\n",
      "eru!\n"
     ]
    }
   ],
   "source": [
    "fav_food = input(\"Enter the  favorite food: \")\n",
    "print(fav_food.lower()+\"!\")"
   ]
  },
  {
   "cell_type": "code",
   "execution_count": 101,
   "id": "1d1ddab6",
   "metadata": {},
   "outputs": [
    {
     "name": "stdout",
     "output_type": "stream",
     "text": [
      "Enter the  favorite food: ERU\n",
      "eru\n"
     ]
    }
   ],
   "source": [
    "fav_food = input(\"Enter the  favorite food: \")\n",
    "print(fav_food.swapcase())"
   ]
  },
  {
   "cell_type": "code",
   "execution_count": null,
   "id": "4bb652be",
   "metadata": {},
   "outputs": [],
   "source": [
    "fav_food = input(\"Enter the  favorite food: \")\n",
    "print(fav_food.title()+\"!\")"
   ]
  },
  {
   "cell_type": "markdown",
   "id": "a8d46d19",
   "metadata": {},
   "source": [
    "###  Boolean in keyword\n",
    "the in keyword can be used as a simple search returning True or False indication if a string is included in a target sequence."
   ]
  },
  {
   "cell_type": "code",
   "execution_count": null,
   "id": "7b7acd61",
   "metadata": {},
   "outputs": [],
   "source": [
    "menu = \"salad, pasta, sandwich, pizza, drinks, dessert\"\n",
    "print('pizza' in menu)"
   ]
  },
  {
   "cell_type": "code",
   "execution_count": null,
   "id": "c43b7976",
   "metadata": {},
   "outputs": [],
   "source": [
    "greeting = \"Hello World!\"\n",
    "print(\"'hello' in greeting = \",'hello' in greeting)"
   ]
  },
  {
   "cell_type": "code",
   "execution_count": null,
   "id": "1fecd88c",
   "metadata": {},
   "outputs": [],
   "source": [
    "print(\"'Hello' in greeting = \", 'Hello' in greeting)"
   ]
  },
  {
   "cell_type": "code",
   "execution_count": null,
   "id": "9552f0f2",
   "metadata": {},
   "outputs": [],
   "source": [
    "# review and run code to test removing case sensitivity from a string comparison\n",
    "greeting = \"Hello World!\"\n",
    "print(\"'hello' in greeting = \",'hello' in greeting)"
   ]
  },
  {
   "cell_type": "code",
   "execution_count": null,
   "id": "d9e7655e",
   "metadata": {},
   "outputs": [],
   "source": [
    "print(\"'Hello' in greeting = \", 'Hello' in greeting)"
   ]
  },
  {
   "cell_type": "code",
   "execution_count": null,
   "id": "8ba0e187",
   "metadata": {},
   "outputs": [],
   "source": [
    "print(\"'hello' in greeting if lower used = \", 'hello'.lower() in greeting.lower())"
   ]
  },
  {
   "cell_type": "markdown",
   "id": "68f0cb11",
   "metadata": {},
   "source": [
    "## Ex6 : Program: What is on the menu?"
   ]
  },
  {
   "cell_type": "markdown",
   "id": "efea581e",
   "metadata": {},
   "source": [
    " <font size=\"6\" color=\"#B24C00\"  face=\"verdana\"> <B>Task </B></font>   \n",
    "###  Create a program where a user can check if an item is on the menu\n",
    "- store the user response in a variable menu_ask\n",
    "- use the menu from above and add some additional items\n",
    "- the program should be able to ignore case mismatch so that \"hello\" is found in \"Hello World!\""
   ]
  },
  {
   "cell_type": "code",
   "execution_count": null,
   "id": "924119eb",
   "metadata": {},
   "outputs": [],
   "source": [
    "# Create a program where the user supplies input to search the menu\n",
    "menu = \"salad, pasta, sandwich, pizza, drinks, dessert, hummus, meat, cookies\"\n",
    "menu_ask = input(\"What you are asking in the menu? -\").lower()\n",
    "print('There is your food in our menu:', menu_ask in menu)"
   ]
  },
  {
   "cell_type": "markdown",
   "id": "03d7f307",
   "metadata": {},
   "source": [
    "### [ ] Challenge: Add to the menu\n",
    "- print the current menu\n",
    "- get user input for add_item variable\n",
    "- new_menu use string addition to add add_item to menu\n",
    "- print the new_menu\n",
    "testing\n",
    "- add a cell below add menu\n",
    "- check if an item is on the menu, check for previous items and the item you added"
   ]
  },
  {
   "cell_type": "code",
   "execution_count": null,
   "id": "76a9fa3a",
   "metadata": {},
   "outputs": [],
   "source": [
    "# add to menu\n",
    "print(menu)\n",
    "add_item = input(\"Let's add your favorite food to the menu\").lower()\n",
    "new_menu = menu + \", \" + add_item\n",
    "print(new_menu)"
   ]
  },
  {
   "cell_type": "code",
   "execution_count": null,
   "id": "a59aea29",
   "metadata": {},
   "outputs": [],
   "source": [
    "# Testing Add to Menu - create user input to search for an item on the new menu\n",
    "menu_ask = input(\"What do your search? \").lower()\n",
    "print('There is your food in our menu:', add_item in new_menu)"
   ]
  },
  {
   "cell_type": "markdown",
   "id": "978551fc",
   "metadata": {},
   "source": [
    "## Ex 7: Program: Allergy Check"
   ]
  },
  {
   "cell_type": "markdown",
   "id": "b775e48b",
   "metadata": {},
   "source": [
    "<font size=\"6\" color=\"#B24C00\"  face=\"verdana\"> <B>Task </B></font>   \n",
    "-  **[ ]** get user input for categories of food eaten in the last 24 hours\n",
    "save in a variable called input_test\n",
    "**example input**    \n",
    "-  **[ ]** print True if \"dairy\" is in the input_test string\n",
    "**[ ] Test the code so far**\n",
    " \n",
    "- **[ ]** modify the print statement to output similar to below   \n",
    "**Test the code so far trying** 'input' including the string `\"dairy\"` and without\n",
    " \n",
    "- **[ ]** repeat the process checking the input for \"nuts\", challenge add \"Seafood\" and \"chocolate\"\n",
    " \n",
    "- **[ ]** challenge: make your code work for input regardless of case, e.g. - `print True for \"Nuts\", \"NuTs\", \"NUTS\" or \"nuts\"`\n",
    "\n",
    "\n",
    "## Rundown of code\n",
    "- [ ] get input for input_test variable\n",
    "- [ ] print \"True\" message if \"dairy\" is in the input or False message if not\n",
    "- [ ] print True message if \"nuts\" is in the input or False if not\n",
    "- [ ] Challenge: Check if \"seafood\" is in the input - print message\n",
    "- [ ] Challenge: Check if \"chocolate\" is in the input - print message"
   ]
  },
  {
   "cell_type": "code",
   "execution_count": null,
   "id": "fcc55bde",
   "metadata": {},
   "outputs": [],
   "source": [
    "# Create Allergy check code\n",
    "# then PASTE THIS CODE into edX\n",
    "# [ ] get input for input_test variable\n",
    "food_eaten = input (\"What kind of food have you been eaten in the past 24 hours, sir ? \")\n",
    "print (food_eaten.lower())\n",
    "\n",
    "# [ ] print \"True\" message if \"dairy\" is in the input or False message if not\n",
    "print (\"It is,\" ,\"dairy\" in food_eaten.lower(), \"that in your eaten food: \", food_eaten.lower(),\"there is dairy\")\n",
    "\n",
    "# [ ] print True message if \"nuts\" is in the input or False if not\n",
    "print (\"It is,\" ,\"nuts\" in food_eaten.lower(), \"that in your eaten food:\", food_eaten.lower(),\"there is nuts\")\n",
    "\n",
    "# [ ] Challenge: Check if \"seafood\" is in the input - print message\n",
    "print (\"It is,\" ,\"seafood\" in food_eaten.lower(), \"that in your eaten food:\", food_eaten.lower(),\"there is seafood\")\n",
    "\n",
    "# [ ] Challenge: Check if \"chocolate\" is in the input - print message\n",
    "print (\"It is,\" ,\"chocolate\" in food_eaten.lower(), \"that in your eaten food:\", food_eaten.lower(),\"there is chocolate\")"
   ]
  },
  {
   "cell_type": "markdown",
   "id": "94a64558",
   "metadata": {},
   "source": [
    "#### Exercise"
   ]
  },
  {
   "cell_type": "markdown",
   "id": "725f5a02",
   "metadata": {},
   "source": [
    "1. Variable Injection: Create a print statement that injects an integer, \n",
    "float, boolean, and string all into one line. The output should look like \n",
    "“23 4.5 False John”."
   ]
  },
  {
   "cell_type": "code",
   "execution_count": 18,
   "id": "d6485472",
   "metadata": {},
   "outputs": [
    {
     "name": "stdout",
     "output_type": "stream",
     "text": [
      "23 4.5 True John\n"
     ]
    }
   ],
   "source": [
    "print(str(23) + \" \" + str(4.5) + \" \"+ str(True) + \" \" + \"John\")"
   ]
  },
  {
   "cell_type": "markdown",
   "id": "defc96d2",
   "metadata": {},
   "source": [
    "2. Fill in the Blanks: Using the format method, fill in the following \n",
    "blanks by assigning your name and favorite activities into variables:\n",
    "\n",
    "```\"{ }'s favorite sports is { }.\"```\n",
    "\n",
    "```\"{ } is working on { } programming!\"```"
   ]
  },
  {
   "cell_type": "code",
   "execution_count": 21,
   "id": "6bc07495",
   "metadata": {},
   "outputs": [
    {
     "name": "stdout",
     "output_type": "stream",
     "text": [
      "Neonard's' favorite sports is football.\n",
      "Neonard is working on python programming\n"
     ]
    }
   ],
   "source": [
    "name = 'Neonard'\n",
    "sport = 'football'\n",
    "programming = 'python'\n",
    "\n",
    "print(f\"{name}'s' favorite sports is {sport}.\")\n",
    "print(f\"{name} is working on {programming} programming\")"
   ]
  },
  {
   "cell_type": "code",
   "execution_count": 3,
   "id": "96493393",
   "metadata": {},
   "outputs": [
    {
     "name": "stdout",
     "output_type": "stream",
     "text": [
      "Enter a letter: a\n",
      "Enter a letter: e\n",
      "Enter a letter: i\n",
      "Enter a letter: o\n",
      "Enter a letter: u\n",
      "Enter a letter: d\n",
      "Enter a letter: g\n",
      "Enter a letter: t\n",
      "Enter a letter: w\n",
      "Enter a letter: v\n",
      "aeiou\n"
     ]
    }
   ],
   "source": [
    "s = ''\n",
    "for i in range(10):\n",
    "    t = input('Enter a letter: ')\n",
    "    if t=='a' or t=='e' or t=='i' or t=='o' or t=='u':\n",
    "        s = s + t\n",
    "print(s)"
   ]
  },
  {
   "cell_type": "code",
   "execution_count": 4,
   "id": "68169db6",
   "metadata": {},
   "outputs": [
    {
     "name": "stdout",
     "output_type": "stream",
     "text": [
      "a\n",
      "e\n",
      "i\n",
      "o\n",
      "u\n"
     ]
    }
   ],
   "source": [
    "for i in range(len(s)):\n",
    "    print (s[i])"
   ]
  },
  {
   "cell_type": "code",
   "execution_count": 6,
   "id": "6c2c9831",
   "metadata": {},
   "outputs": [
    {
     "name": "stdout",
     "output_type": "stream",
     "text": [
      "Enter some text: apple\n",
      "0\n"
     ]
    }
   ],
   "source": [
    "#### Write a program that asks the user for a string and prints out the location of each 'a' in the string.\n",
    "s = input('Enter some text: ')\n",
    "for i in range(len(s)):\n",
    "    if s[i]=='a':\n",
    "        print(i)"
   ]
  },
  {
   "cell_type": "code",
   "execution_count": 8,
   "id": "3203d671",
   "metadata": {},
   "outputs": [
    {
     "name": "stdout",
     "output_type": "stream",
     "text": [
      "Enter some text: hello\n",
      "hheelllloo\n"
     ]
    }
   ],
   "source": [
    "#### Write a program that asks the user for a string and creates a new string that doubles\n",
    "#each character of the original string. For instance, if the user enters Hello, the output should beHHeelllloo.\n",
    "s = input('Enter some text: ')\n",
    "doubled_s = ''\n",
    "for c in s:\n",
    "    doubled_s = doubled_s + c*2\n",
    "print(doubled_s)"
   ]
  },
  {
   "cell_type": "markdown",
   "id": "3ef72848",
   "metadata": {},
   "source": [
    "#### Write a program that asks a user for their name and prints it in the following funny pattern:\n",
    "```E El Elv Elvi Elvis```"
   ]
  },
  {
   "cell_type": "code",
   "execution_count": 9,
   "id": "0af837cd",
   "metadata": {},
   "outputs": [
    {
     "name": "stdout",
     "output_type": "stream",
     "text": [
      "Enter your name: Neonard\n",
      "N Ne Neo Neon Neona Neonar Neonard "
     ]
    }
   ],
   "source": [
    "name = input('Enter your name: ')\n",
    "for i in range(len(name)):\n",
    "    print(name[:i+1], end=' ')"
   ]
  },
  {
   "cell_type": "code",
   "execution_count": 10,
   "id": "f961b03d",
   "metadata": {},
   "outputs": [
    {
     "name": "stdout",
     "output_type": "stream",
     "text": [
      "hello\n"
     ]
    }
   ],
   "source": [
    "#### Write a program that removes all capitalization and common punctuation from astring s.\n",
    "s = s.lower()\n",
    "for c in ',.;:-?!()\\'\"':\n",
    "    s = s.replace(c, '')\n",
    "    \n",
    "print(s)"
   ]
  },
  {
   "cell_type": "markdown",
   "id": "fe05b831",
   "metadata": {},
   "source": [
    " #### Write a program that, given a string that contains a decimal number, prints out the decimal part of the number. \n",
    "```For instance, if given 3.14159, the program should print out .14159```"
   ]
  },
  {
   "cell_type": "code",
   "execution_count": 11,
   "id": "384c1d0a",
   "metadata": {},
   "outputs": [
    {
     "name": "stdout",
     "output_type": "stream",
     "text": [
      "Enter your decimal number: 13.234\n",
      ".234\n"
     ]
    }
   ],
   "source": [
    "s = input('Enter your decimal number: ')\n",
    "print(s[s.index('.'):])"
   ]
  },
  {
   "cell_type": "markdown",
   "id": "7157407a",
   "metadata": {},
   "source": [
    "A simple and very old method of sending secret messages is the substitution cipher.\n",
    "Basically, each letter of the alphabet gets replaced by another letter of the alphabet, say every a gets\n",
    "replaced with an x, and every b gets replaced by a z, etc. Write a program to implement this.\n",
    "\n",
    "The string key is a random reordering of the alphabet.\n",
    "The only tricky part of the program is the for loop. What it does is go through the message one\n",
    "character at a time, and, for every letter it finds, it replaces it with the corresponding letter from the\n",
    "key. This is accomplished by using the index method to find the position in the alphabet of the\n",
    "current letter and replacing that letter with the letter from the key at that position. All non-letter\n",
    "characters are copied as is. The program uses the isalpha method to tell whether the current\n",
    "character is a letter or not."
   ]
  },
  {
   "cell_type": "code",
   "execution_count": 13,
   "id": "51449d60",
   "metadata": {},
   "outputs": [
    {
     "name": "stdout",
     "output_type": "stream",
     "text": [
      "Enter your message: hello\n",
      "gwddt"
     ]
    }
   ],
   "source": [
    "alphabet = 'abcdefghijklmnopqrstuvwxyz'\n",
    "key = 'xznlwebgjhqdyvtkfuompciasr'\n",
    "secret_message = input('Enter your message: ')\n",
    "secret_message = secret_message.lower()\n",
    "for c in secret_message:\n",
    "    if c.isalpha():\n",
    "        print(key[alphabet.index(c)],end='')\n",
    "    else:\n",
    "        print(c, end='')"
   ]
  },
  {
   "cell_type": "code",
   "execution_count": null,
   "id": "3c6d27a7",
   "metadata": {},
   "outputs": [],
   "source": []
  },
  {
   "cell_type": "markdown",
   "id": "9ad63182",
   "metadata": {},
   "source": [
    "#### Write a program that asks the user to enter a string. The program should then print the following:\n",
    "- (a) The total number of characters in the string\n",
    "- (b) The string repeated 10 times\n",
    "- (c) The first character of the string (remember that string indices start at 0)\n",
    "- (d) The first three characters of the string\n",
    "- (e) The last three characters of the string\n",
    "- (f) The string backwards\n",
    "- (g) The seventh character of the string if the string is long enough and a message otherwise\n",
    "- (h) The string with its first and last characters removed\n",
    "- (i) The string in all caps\n",
    "- (j) The string with every a replaced with an e\n",
    "- (k) The string with every letter replaced by a space"
   ]
  },
  {
   "cell_type": "code",
   "execution_count": 22,
   "id": "d8634ffa",
   "metadata": {},
   "outputs": [
    {
     "name": "stdout",
     "output_type": "stream",
     "text": [
      "Enter some text: Neonard\n",
      "7\n"
     ]
    }
   ],
   "source": [
    "s = input(\"Enter some text: \")\n",
    "# 1 length of word   \n",
    "size = len(s)\n",
    "print(size)    "
   ]
  },
  {
   "cell_type": "code",
   "execution_count": 23,
   "id": "23aa01f0",
   "metadata": {},
   "outputs": [
    {
     "name": "stdout",
     "output_type": "stream",
     "text": [
      "Neonard Neonard Neonard Neonard Neonard Neonard Neonard Neonard Neonard Neonard "
     ]
    }
   ],
   "source": [
    "# 2 string repeat 10 times\n",
    "for i in range(10):\n",
    "    print(s, end=' ')"
   ]
  },
  {
   "cell_type": "code",
   "execution_count": 24,
   "id": "86ea2aa3",
   "metadata": {},
   "outputs": [
    {
     "name": "stdout",
     "output_type": "stream",
     "text": [
      "N\n"
     ]
    }
   ],
   "source": [
    "# The first character of the string (remember that string indices start at 0)\n",
    "\n",
    "first_char = s[0]\n",
    "print(first_char)"
   ]
  },
  {
   "cell_type": "code",
   "execution_count": 26,
   "id": "073c2caf",
   "metadata": {},
   "outputs": [
    {
     "name": "stdout",
     "output_type": "stream",
     "text": [
      "Neo\n"
     ]
    }
   ],
   "source": [
    "# The first three characters of the string\n",
    "three_char = s[:3]\n",
    "print(three_char)"
   ]
  },
  {
   "cell_type": "markdown",
   "id": "3e8ce094",
   "metadata": {},
   "source": [
    "#### A simple way to estimate the number of words in a string is to count the number of spaces in the string. Write a program that asks the user for a string and returns an estimate of how many words are in the string."
   ]
  },
  {
   "cell_type": "code",
   "execution_count": 31,
   "id": "67edb32d",
   "metadata": {},
   "outputs": [
    {
     "name": "stdout",
     "output_type": "stream",
     "text": [
      "Enter some text: I am practicing python\n",
      "3\n"
     ]
    }
   ],
   "source": [
    "count = 0\n",
    "word = input(\"Enter some text: \")\n",
    "\n",
    "for i in word:\n",
    "    if i == ' ':\n",
    "        count = count + 1\n",
    "print(count)"
   ]
  },
  {
   "cell_type": "code",
   "execution_count": null,
   "id": "bf8d5344",
   "metadata": {},
   "outputs": [],
   "source": []
  }
 ],
 "metadata": {
  "kernelspec": {
   "display_name": "Python 3 (ipykernel)",
   "language": "python",
   "name": "python3"
  },
  "language_info": {
   "codemirror_mode": {
    "name": "ipython",
    "version": 3
   },
   "file_extension": ".py",
   "mimetype": "text/x-python",
   "name": "python",
   "nbconvert_exporter": "python",
   "pygments_lexer": "ipython3",
   "version": "3.9.7"
  }
 },
 "nbformat": 4,
 "nbformat_minor": 5
}
